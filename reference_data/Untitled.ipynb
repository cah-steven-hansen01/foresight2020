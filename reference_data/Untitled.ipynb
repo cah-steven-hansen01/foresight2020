{
 "cells": [
  {
   "cell_type": "code",
   "execution_count": 1,
   "id": "b5468b3a-7656-44de-9ed9-9fcb55c1febf",
   "metadata": {},
   "outputs": [],
   "source": [
    "this_set = set()\n",
    "this_set.add(1)"
   ]
  },
  {
   "cell_type": "code",
   "execution_count": 2,
   "id": "9c800c07-a6d6-4604-9422-2ce4ed4ef589",
   "metadata": {},
   "outputs": [
    {
     "data": {
      "text/plain": [
       "{1}"
      ]
     },
     "execution_count": 2,
     "metadata": {},
     "output_type": "execute_result"
    }
   ],
   "source": [
    "this_set"
   ]
  },
  {
   "cell_type": "code",
   "execution_count": 3,
   "id": "62b3fdc3-24b8-44d7-9f23-fddc1fe40a4b",
   "metadata": {},
   "outputs": [],
   "source": [
    "this_set.add(1)\n"
   ]
  },
  {
   "cell_type": "code",
   "execution_count": 4,
   "id": "fd340e65-253e-41b3-9ba0-9586ea1ebbf4",
   "metadata": {},
   "outputs": [],
   "source": [
    "this_set.add('dougnut')\n"
   ]
  },
  {
   "cell_type": "code",
   "execution_count": 5,
   "id": "f843aeb1-1bad-4ddd-9098-5ae1f2430a5a",
   "metadata": {},
   "outputs": [
    {
     "data": {
      "text/plain": [
       "{1, 'dougnut'}"
      ]
     },
     "execution_count": 5,
     "metadata": {},
     "output_type": "execute_result"
    }
   ],
   "source": [
    "this_set"
   ]
  },
  {
   "cell_type": "code",
   "execution_count": null,
   "id": "602f7f31-eaca-4a01-b886-73ed10a0b8a7",
   "metadata": {},
   "outputs": [],
   "source": []
  },
  {
   "cell_type": "code",
   "execution_count": null,
   "id": "a40021ed-8ed5-4b6d-9bf9-0ad5b7f181eb",
   "metadata": {},
   "outputs": [],
   "source": []
  }
 ],
 "metadata": {
  "kernelspec": {
   "display_name": "Python 3 (ipykernel)",
   "language": "python",
   "name": "python3"
  },
  "language_info": {
   "codemirror_mode": {
    "name": "ipython",
    "version": 3
   },
   "file_extension": ".py",
   "mimetype": "text/x-python",
   "name": "python",
   "nbconvert_exporter": "python",
   "pygments_lexer": "ipython3",
   "version": "3.9.5"
  }
 },
 "nbformat": 4,
 "nbformat_minor": 5
}
