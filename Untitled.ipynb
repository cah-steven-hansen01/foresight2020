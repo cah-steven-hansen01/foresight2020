{
 "cells": [
  {
   "cell_type": "code",
   "execution_count": 6,
   "id": "4646d439-1a42-4993-8961-123423b8d5ca",
   "metadata": {},
   "outputs": [],
   "source": [
    "import pandas as pd\n",
    "import shutil"
   ]
  },
  {
   "cell_type": "code",
   "execution_count": 13,
   "id": "f543385e-69eb-410d-8195-e578bb29b55d",
   "metadata": {},
   "outputs": [
    {
     "name": "stdout",
     "output_type": "stream",
     "text": [
      "Wall time: 1min 26s\n"
     ]
    },
    {
     "data": {
      "text/plain": [
       "'./raw_data/CL Container Schedule  12.6.21.xlsm'"
      ]
     },
     "execution_count": 13,
     "metadata": {},
     "output_type": "execute_result"
    }
   ],
   "source": [
    "%%time\n",
    "# filename = \"CL Container Schedule  12.6.21.xlsm\"\n",
    "# container_schedule_path = r'J:\\\\Manufacturing\\\\MasterSchedule\\\\Containers Schedule\\\\'+filename\n",
    "# raw_data_path = './raw_data/'\n",
    "# shutil.copy(container_schedule_path,raw_data_path)"
   ]
  },
  {
   "cell_type": "code",
   "execution_count": 16,
   "id": "b2ae7389-d1e2-4e42-965d-d745a5ecb336",
   "metadata": {},
   "outputs": [
    {
     "name": "stdout",
     "output_type": "stream",
     "text": [
      "Wall time: 2min 2s\n"
     ]
    }
   ],
   "source": [
    "%%time\n",
    "schedule_df = pd.read_excel(open(raw_data_path+filename,'rb'),sheet_name='WEEKLY PRODUCTION SCHEDULE')"
   ]
  },
  {
   "cell_type": "code",
   "execution_count": 15,
   "id": "6dd12808-956c-4dc1-9eae-cb0dd1efc25c",
   "metadata": {},
   "outputs": [],
   "source": [
    "schedule_df.to_clipboard()"
   ]
  },
  {
   "cell_type": "code",
   "execution_count": null,
   "id": "73520913-04a1-48b8-a4ec-a3d704eb4361",
   "metadata": {},
   "outputs": [],
   "source": []
  }
 ],
 "metadata": {
  "kernelspec": {
   "display_name": "Python 3.8.3 32-bit",
   "language": "python",
   "name": "python38332bit2b8480b44fa447f4ab201d5dd8281470"
  },
  "language_info": {
   "codemirror_mode": {
    "name": "ipython",
    "version": 3
   },
   "file_extension": ".py",
   "mimetype": "text/x-python",
   "name": "python",
   "nbconvert_exporter": "python",
   "pygments_lexer": "ipython3",
   "version": "3.8.3"
  }
 },
 "nbformat": 4,
 "nbformat_minor": 5
}
