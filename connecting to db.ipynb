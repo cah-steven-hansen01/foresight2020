{
 "cells": [
  {
   "cell_type": "code",
   "execution_count": 2,
   "id": "e72e6612-5309-40d3-93b7-e757d5aa3bb1",
   "metadata": {},
   "outputs": [],
   "source": [
    "import pyodbc\n",
    "import pandas as pd\n",
    "import os\n",
    "import itertools"
   ]
  },
  {
   "cell_type": "markdown",
   "id": "fe0779c5-bf79-409a-ac19-dc0f116f2192",
   "metadata": {
    "tags": []
   },
   "source": [
    "## Connect to as400"
   ]
  },
  {
   "cell_type": "code",
   "execution_count": 9,
   "id": "2ce29da4-1d11-4464-a09f-fdd51d0d33a9",
   "metadata": {},
   "outputs": [],
   "source": [
    "cnxn = pyodbc.connect('DRIVER={Client Access ODBC Driver (32-bit)};SIGNON=1;REMARKS=1;LIBVIEW=1;DFT=1;QRYSTGLMT=-1;PKG=CLPB80F/DEFAULT(IBM),2,0,1,0,512;LANGUAGEID=ENU;DFTPKGLIB=B833CLPF;DBQ=B833CLPF;SYSTEM=NAMFG401;UserID=CLSERVICE;Password=SERVICE;')\n",
    "cursor = cnxn.cursor()"
   ]
  },
  {
   "cell_type": "markdown",
   "id": "59442190-8673-412f-89e0-bc50de54285a",
   "metadata": {},
   "source": [
    "## Shop Order Queries"
   ]
  },
  {
   "cell_type": "markdown",
   "id": "4d66a5fc-4e76-4e5d-88a4-ff42e78e599e",
   "metadata": {},
   "source": [
    "### archived_SO.csv\n",
    "Completed Shop Orders for training"
   ]
  },
  {
   "cell_type": "code",
   "execution_count": 18,
   "id": "c96762b4-da8a-4ba0-83bc-4efde1d13c19",
   "metadata": {},
   "outputs": [],
   "source": [
    "test_query = '''\n",
    "SELECT *\n",
    "FROM B833CLPF.FMA'''"
   ]
  },
  {
   "cell_type": "code",
   "execution_count": 20,
   "id": "343d977f-e3de-4d9f-838b-849cf5b003ca",
   "metadata": {},
   "outputs": [],
   "source": [
    "cursor.execute(test_query)\n",
    "row = cursor.fetchone()\n"
   ]
  },
  {
   "cell_type": "code",
   "execution_count": 21,
   "id": "68110bec-c28e-49bb-8990-8ea9d1866fbb",
   "metadata": {},
   "outputs": [
    {
     "data": {
      "text/plain": [
       "Decimal('129629')"
      ]
     },
     "execution_count": 21,
     "metadata": {},
     "output_type": "execute_result"
    }
   ],
   "source": [
    "row.MORD"
   ]
  },
  {
   "cell_type": "code",
   "execution_count": 10,
   "id": "7e7d92fa-6acc-46c0-8a3b-0383120f8410",
   "metadata": {},
   "outputs": [],
   "source": [
    "archived_so_query = '''\n",
    "SELECT DISTINCT FMH.MORD, FMH.MPROD, FMH.MRDTE, FMH.MQISS, FMH.MAPRD, FMH.MASTS, FMH.MBOM, FMH.MOPNO, FSH.SQFIN, FMH.MQREQ, FSH.SQREQ, FSH.SOLOT\n",
    "FROM B833CLPF.FMH FMH, B833CLPF.FSH FSH\n",
    "WHERE FMH.MORD = FSH.SORD AND ((FMH.MRDTE>20191231) AND (FSH.SQFIN>0))'''\n",
    "queue_so_query = '''SELECT DISTINCT FMA.MORD, FMA.MPROD, FMA.MRDTE, FMA.MQREQ, FMA.MQISS, FMA.MAPRD, FMA.MBOM, FMA.MOPNO, FSO.SQFIN, FSO.SQREQ, FSO.SOLOT, FSO.SOSTS\n",
    "FROM B833CLPF.FMA FMA, B833CLPF.FSO FSO, B833CLPF.MBM MBM\n",
    "WHERE FMA.MORD = FSO.SORD AND FSO.SPROD = MBM.BPROD AND ((FMA.MRDTE>20210901) AND (FSO.SQFIN=0))'''\n",
    "\n"
   ]
  },
  {
   "cell_type": "code",
   "execution_count": 11,
   "id": "9904d182-a8b8-449d-bd4d-7508c2b14dc6",
   "metadata": {},
   "outputs": [
    {
     "name": "stdout",
     "output_type": "stream",
     "text": [
      "Wall time: 21min 40s\n"
     ]
    }
   ],
   "source": [
    "%%time\n",
    "df = pd.DataFrame()\n",
    "for i, row in enumerate(itertools.islice(cursor.execute(archived_so_query),100000)):\n",
    "    df.loc[i,'shop_order'] = row.MORD\n",
    "    df.loc[i,'lot_number'] = row.SOLOT\n",
    "    df.loc[i,'Product'] = row.MAPRD\n",
    "    df.loc[i,'Date'] = row.MRDTE\n",
    "    df.loc[i,'component'] = row.MPROD\n",
    "    df.loc[i,'BOM_qty'] = row.MBOM\n",
    "    df.loc[i,'MOPNO'] = row.MOPNO\n",
    "    df.loc[i,'requested_qty'] = row.SQREQ\n",
    "    df.loc[i,'finished_qty'] = row.SQFIN\n",
    "    df.loc[i,'MQISS'] = row.MQISS\n",
    "    df.loc[i,'MQREQ'] = row.MQREQ\n",
    "df.head()\n",
    "df.to_csv('./raw_data/archived_so.csv')"
   ]
  },
  {
   "cell_type": "code",
   "execution_count": 8,
   "id": "592601e0-42ef-47ef-ac86-7407860c7366",
   "metadata": {},
   "outputs": [
    {
     "name": "stdout",
     "output_type": "stream",
     "text": [
      "Wall time: 5.02 s\n"
     ]
    },
    {
     "data": {
      "text/html": [
       "<div>\n",
       "<style scoped>\n",
       "    .dataframe tbody tr th:only-of-type {\n",
       "        vertical-align: middle;\n",
       "    }\n",
       "\n",
       "    .dataframe tbody tr th {\n",
       "        vertical-align: top;\n",
       "    }\n",
       "\n",
       "    .dataframe thead th {\n",
       "        text-align: right;\n",
       "    }\n",
       "</style>\n",
       "<table border=\"1\" class=\"dataframe\">\n",
       "  <thead>\n",
       "    <tr style=\"text-align: right;\">\n",
       "      <th></th>\n",
       "      <th>shop_order</th>\n",
       "      <th>component</th>\n",
       "      <th>date</th>\n",
       "      <th>MQREQ</th>\n",
       "      <th>product</th>\n",
       "      <th>MQISS</th>\n",
       "      <th>bom_qty</th>\n",
       "      <th>MOPNO</th>\n",
       "      <th>finished_qty</th>\n",
       "      <th>SQREQ</th>\n",
       "      <th>SOSTS</th>\n",
       "      <th>lot_number</th>\n",
       "    </tr>\n",
       "  </thead>\n",
       "  <tbody>\n",
       "    <tr>\n",
       "      <th>0</th>\n",
       "      <td>190875</td>\n",
       "      <td>EXP5013</td>\n",
       "      <td>20200203</td>\n",
       "      <td>0</td>\n",
       "      <td>5551761207</td>\n",
       "      <td>05</td>\n",
       "      <td>0</td>\n",
       "      <td>0</td>\n",
       "      <td>36000.000</td>\n",
       "      <td>0</td>\n",
       "      <td>36000.000</td>\n",
       "      <td>19L13263X</td>\n",
       "    </tr>\n",
       "    <tr>\n",
       "      <th>1</th>\n",
       "      <td>190875</td>\n",
       "      <td>EXP6001</td>\n",
       "      <td>20200203</td>\n",
       "      <td>3.996</td>\n",
       "      <td>5551761207</td>\n",
       "      <td>05</td>\n",
       "      <td>0.000111</td>\n",
       "      <td>888</td>\n",
       "      <td>36000.000</td>\n",
       "      <td>3.996</td>\n",
       "      <td>36000.000</td>\n",
       "      <td>19L13263X</td>\n",
       "    </tr>\n",
       "    <tr>\n",
       "      <th>2</th>\n",
       "      <td>190875</td>\n",
       "      <td>FS10013527</td>\n",
       "      <td>20200203</td>\n",
       "      <td>0</td>\n",
       "      <td>5551761207</td>\n",
       "      <td>05</td>\n",
       "      <td>0</td>\n",
       "      <td>0</td>\n",
       "      <td>36000.000</td>\n",
       "      <td>0</td>\n",
       "      <td>36000.000</td>\n",
       "      <td>19L13263X</td>\n",
       "    </tr>\n",
       "    <tr>\n",
       "      <th>3</th>\n",
       "      <td>190875</td>\n",
       "      <td>4101801</td>\n",
       "      <td>20200203</td>\n",
       "      <td>36000.000</td>\n",
       "      <td>5551761207</td>\n",
       "      <td>05</td>\n",
       "      <td>1.000000</td>\n",
       "      <td>888</td>\n",
       "      <td>36000.000</td>\n",
       "      <td>36000.000</td>\n",
       "      <td>36000.000</td>\n",
       "      <td>19L13263X</td>\n",
       "    </tr>\n",
       "    <tr>\n",
       "      <th>4</th>\n",
       "      <td>189714</td>\n",
       "      <td>FS10002899</td>\n",
       "      <td>20200102</td>\n",
       "      <td>0</td>\n",
       "      <td>WP8985</td>\n",
       "      <td>05</td>\n",
       "      <td>0</td>\n",
       "      <td>0</td>\n",
       "      <td>23929.000</td>\n",
       "      <td>0</td>\n",
       "      <td>23929.000</td>\n",
       "      <td>19H189714</td>\n",
       "    </tr>\n",
       "  </tbody>\n",
       "</table>\n",
       "</div>"
      ],
      "text/plain": [
       "  shop_order                            component      date      MQREQ  \\\n",
       "0     190875  EXP5013                              20200203          0   \n",
       "1     190875  EXP6001                              20200203      3.996   \n",
       "2     190875  FS10013527                           20200203          0   \n",
       "3     190875  4101801                              20200203  36000.000   \n",
       "4     189714  FS10002899                           20200102          0   \n",
       "\n",
       "                               product MQISS   bom_qty MOPNO finished_qty  \\\n",
       "0  5551761207                             05         0     0    36000.000   \n",
       "1  5551761207                             05  0.000111   888    36000.000   \n",
       "2  5551761207                             05         0     0    36000.000   \n",
       "3  5551761207                             05  1.000000   888    36000.000   \n",
       "4  WP8985                                 05         0     0    23929.000   \n",
       "\n",
       "       SQREQ      SOSTS                 lot_number  \n",
       "0          0  36000.000  19L13263X                  \n",
       "1      3.996  36000.000  19L13263X                  \n",
       "2          0  36000.000  19L13263X                  \n",
       "3  36000.000  36000.000  19L13263X                  \n",
       "4          0  23929.000  19H189714                  "
      ]
     },
     "execution_count": 8,
     "metadata": {},
     "output_type": "execute_result"
    }
   ],
   "source": [
    "%%time\n",
    "cursor.execute(archived_so_query)\n",
    "rows = cursor.fetchall()\n",
    "df = pd.DataFrame.from_records(rows,columns = ['shop_order','component','date','MQREQ','product','MQISS','bom_qty','MOPNO','finished_qty','SQREQ','SOSTS','lot_number'])\n",
    "df.head()"
   ]
  },
  {
   "cell_type": "markdown",
   "id": "2b652154-040d-4a1d-a720-488460df7e65",
   "metadata": {},
   "source": [
    "### queue_so\n",
    "shop orders waiting to go to production"
   ]
  },
  {
   "cell_type": "code",
   "execution_count": 4,
   "id": "f88ff454-4d16-42d2-9a1c-19fe1330f995",
   "metadata": {},
   "outputs": [
    {
     "name": "stdout",
     "output_type": "stream",
     "text": [
      "Wall time: 8 s\n"
     ]
    }
   ],
   "source": [
    "%%time\n",
    "df = pd.DataFrame()\n",
    "for i, row in enumerate(itertools.islice(cursor.execute(queue_so_query),100000)):\n",
    "    df.loc[i,'shop_order'] = row.MORD\n",
    "    df.loc[i,'lot_number'] = row.SOLOT\n",
    "    df.loc[i,'Product'] = row.MAPRD\n",
    "    df.loc[i,'Date'] = row.MRDTE\n",
    "    df.loc[i,'component'] = row.MPROD\n",
    "    df.loc[i,'BOM_qty'] = row.MBOM\n",
    "    df.loc[i,'MOPNO'] = row.MOPNO\n",
    "    df.loc[i,'requested_qty'] = row.SQREQ\n",
    "    df.loc[i,'finished_qty'] = row.SQFIN\n",
    "    df.loc[i,'MQISS'] = row.MQISS\n",
    "    df.loc[i,'MQREQ'] = row.MQREQ\n",
    "df.head()\n",
    "df.to_csv('./raw_data/queue_so.csv')"
   ]
  },
  {
   "cell_type": "markdown",
   "id": "054fb06d-d5ff-4f28-b02d-a19c4e0fab10",
   "metadata": {},
   "source": [
    "### current_so\n",
    "shop orders currently in production"
   ]
  },
  {
   "cell_type": "markdown",
   "id": "a32911b3-5158-45fa-b439-bdb8ed028f10",
   "metadata": {},
   "source": [
    "## NCs as-400 Queries (not currently working)"
   ]
  },
  {
   "cell_type": "code",
   "execution_count": 86,
   "id": "a564b0f7-f003-47a8-82d9-e31916bc6234",
   "metadata": {},
   "outputs": [],
   "source": [
    "'nc_test_query not working, see copynpast_of_NCR_TESTsql.txt for og source'\n",
    "stardate = \"20210901\"\n",
    "endte = \"20211001\"\n",
    "nc_test_query = f'''SELECT Distinct \n",
    "chncr#.nr4nchp EDTCDE(L), chdsdt.nr4nchp,COLHDG(\"NCR Open\" \"Date\") EDTCDE(W), chdvdt.nr4nchp COLHDG(\"NCR Closed \" \"Date\") EDTCDE(W), \n",
    "chdvdt-CHDSDT COLHDG(\"NCR Cycle Time\"), chtype.nr4nchp, chsts.nr4nchp, chassd.nr4nchp COLHDG(\"Shop Order\"), chendt.nr4nchp COLHDG(\"BPCS Entry Date\") EDTCDE(W), \n",
    "chcldt.nr4nchp COLHDG(\"BPCS Closure\") EDTCDE(W), chinvs.nr4nchp COLHDG(\"Inititated\" \"By\"), chidpt.nr4nchp COLHDG(\"Area/Line\"), chodpt.nr4nchp COLHDG(\"Person\" \"Responsible\"), \n",
    "chrcv5.nr4nchp COLHDG(\"Containment\" \"Code\"), chvend.nr4nchp, vndnam.avm, chscar.nr4nchp, chltsz.nr4nchp COLHDG(\"NCR\" \"Qty\"), chsmsz.nr4nchp COLHDG(\"Sample\" \"Qty\"), \n",
    "chdeft.nr4nchp COLHDG(\"Defect\" \"Qty\"), chrewk.nr4nchp COLHDG(\"Rework\" \"Instructions\"), chusr1.nr4nchp COLHDG(\"Source/Type\" \"Defined1\"), chusr2.nr4nchp COLHDG(\"Nonconformance\" \"Category\"), \n",
    "chpp#.nr4nchp, chitmc.nr4nchp, chplt#.nr4nchp, chpuom.nr4nchp, chpflmc1.nr4nchp COLHDG(\"Parent\" \"Failure\" \"Mode\"), ccdesc.zcc, ccsdsc.zcc, chprtcc1.nr4nchp COLHDG(\"Parent\" \"Root Cause/\" \"Location\"), \n",
    "chprtvq.nr4nchp COLHDG(\"Parent \" \"Return to Vendor\"  \"Quantity\"), chpuaiq.nr4nchp COLHDG(\"Parent\" \"Rework\" \"Quantity\"), chpothq.nr4nchp COLHDG(\"Parent\" \"Sort Good\" \"Quantity\"), \n",
    "chpaecq.nr4nchp COLHDG(\"Parent\" \"Use As Is\" \"Quantity\"), chpagdq.nr4nchp COLHDG(\"Parent\" \"Scrap\" \"Quantity\"), chprskq.nr4nchp COLHDG(\"Parent\" \"Sort Bad\" \"Quantity\"), \n",
    "chpscpq.nr4nchp COLHDG(\"Parent\" \"N/A #1\" \"Quantity\"), chprewq.nr4nchp COLHDG(\"Parent\" \"N/A #2\" \"Quantity\"), chpsrtq.nr4nchp COLHDG(\"Parent\" \"N/A #3\" \"Quantity\"), \n",
    "chpchar.nr4nchp COLHDG(\"Parent Item\" \"Confirmed Defect\" \"Description\"), chpspec.nr4nchp COLHDG(\"Parent Item\" \"Cause\"), chpnonc.nr4nchp COLHDG(\"Parent\" \"Correction\" \"Corrective  Action\"), \n",
    "chcrtby.nr4nchp, chcrtdt.nr4nchp EDTCDE(W), cdseq#.nr4ncdp, cdcp#.nr4ncdp, cdcuom.nr4ncdp, cdcflmc1.nr4ncdp COLHDG(\"Component\" \"Failure Mode\"), cdcrtcc1.nr4ncdp COLHDG(\"Component\" \"Root Cause\"), \n",
    "cdcrtvq.nr4ncdp COLHDG(\"Component\" \"Return to Vendor\"  \"Quantity\"), cdcuaiq.nr4ncdp COLHDG(\"Component\" \"Rework\" \"Quantity\"), cdcothq.nr4ncdp COLHDG(\"Component\" \"Sort Good\" \"Quantity\"), \n",
    "cdcaecq.nr4ncdp COLHDG(\"Component\" \"Use As Is\" \"Quantity\"), cdcagdq.nr4ncdp COLHDG(\"Component\" \"Scrap\" \"Quantity\"), cdcrskq.nr4ncdp COLHDG(\"Component\" \"Sort Bad\" \"Quantity\"), cdcscpq.nr4ncdp COLHDG(\"Component\" \"N/A #1\" \"Quantity\"), \n",
    "cdcrewq.nr4ncdp COLHDG(\"Component\" \"N/A #2\" \"Quantity\"), cdcsrtq.nr4ncdp COLHDG(\"Component\" \"N/A #3\" \"Quantity\"), cdcchar.nr4ncdp COLHDG(\"Component\" \"Confirmed Defect\"  \"Description\"), cdcspec.nr4ncdp COLHDG(\"Component\" \"Cause\"), \n",
    "cdcnonc.nr4ncdp COLHDG(\"Component\" \"Correction /\" \"Corrective  Action\")\n",
    "FROM  b833clpuf/nr4nchp,b833clpuf/nr4nltp,b833clpuf/nr4ncdp,b833clpf/zcc,b833clpf/avm\n",
    "PARTIAL OUTER JOIN  ltncr#.nr4nltp=chncr#.nr4nchp and ltncr#.nr4nltp=cdncr#.nr4ncdp and chpflmc1.nr4nchp=cccode.zcc\n",
    "and chvend.nr4nchp=vendor.avm\n",
    "WHERE chdsdt BETWEEN {stardate} AND {endte} and chsts<>\"V'''\n",
    "\n",
    "nc_test_query_ii = f'''SELECT Distinct \n",
    "chncr#.nr4nchp, chdsdt.nr4nchp, chdvdt.nr4nchp, \n",
    "chdvdt-CHDSDT, chtype.nr4nchp, chsts.nr4nchp, chassd.nr4nchp, chendt.nr4nchp,\n",
    "chcldt.nr4nchp, chinvs.nr4nchp, chidpt.nr4nchp, chodpt.nr4nchp, \n",
    "chrcv5.nr4nchp, chvend.nr4nchp, vndnam.avm, chscar.nr4nchp, chltsz.nr4nchp, chsmsz.nr4nchp, \n",
    "chdeft.nr4nchp, chrewk.nr4nchp , chusr1.nr4nchp, chusr2.nr4nchp, \n",
    "chpp#.nr4nchp, chitmc.nr4nchp, chplt#.nr4nchp, chpuom.nr4nchp, chpflmc1.nr4nchp, ccdesc.zcc, ccsdsc.zcc, chprtcc1.nr4nchp, \n",
    "chprtvq.nr4nchp, chpuaiq.nr4nchp, chpothq.nr4nchp, chpaecq.nr4nchp, chpagdq.nr4nchp, chprskq.nr4nchp, chpscpq.nr4nchp, chprewq.nr4nchp, chpsrtq.nr4nchp, \n",
    "chpchar.nr4nchp, chpspec.nr4nchp, chpnonc.nr4nchp, \n",
    "chcrtby.nr4nchp, chcrtdt.nr4nchp, cdseq#.nr4ncdp, cdcp#.nr4ncdp, cdcuom.nr4ncdp, cdcflmc1.nr4ncdp, cdcrtcc1.nr4ncdp, \n",
    "cdcrtvq.nr4ncdp, cdcuaiq.nr4ncdp, cdcothq.nr4ncdp, \n",
    "cdcaecq.nr4ncdp, cdcagdq.nr4ncdp, cdcrskq.nr4ncdp, cdcscpq.nr4ncdp, \n",
    "cdcrewq.nr4ncdp, cdcsrtq.nr4ncdp, cdcchar.nr4ncdp, cdcspec.nr4ncdp, cdcnonc.nr4ncdp\n",
    "FROM  b833clpuf/nr4nchp,b833clpuf/nr4nltp,b833clpuf/nr4ncdp,b833clpf/zcc,b833clpf/avm\n",
    "PARTIAL OUTER JOIN  ltncr#.nr4nltp=chncr#.nr4nchp and ltncr#.nr4nltp=cdncr#.nr4ncdp and chpflmc1.nr4nchp=cccode.zcc\n",
    "and chvend.nr4nchp=vendor.avm\n",
    "WHERE chdsdt BETWEEN {stardate} AND {endte} and chsts<>\"V'''\n",
    "\n"
   ]
  },
  {
   "cell_type": "code",
   "execution_count": 89,
   "id": "c2374270-476b-4e3f-b32e-55f221e2027e",
   "metadata": {},
   "outputs": [
    {
     "ename": "Error",
     "evalue": "('HY000', '[HY000] [IBM][System i Access ODBC Driver][DB2 for i5/OS]SQL5016 - Qualified object name NR4NCHP not valid. (-5016) (SQLExecDirectW); [HY000] [IBM][System i Access ODBC Driver][DB2 for i5/OS]SQL7973 - SQL create package for PYTHONARBA in B833CLPF has failed. (-551)')",
     "output_type": "error",
     "traceback": [
      "\u001b[1;31m---------------------------------------------------------------------------\u001b[0m",
      "\u001b[1;31mError\u001b[0m                                     Traceback (most recent call last)",
      "\u001b[1;32mC:\\Users\\STEVEN~1.HAN\\AppData\\Local\\Temp/ipykernel_20400/1449028636.py\u001b[0m in \u001b[0;36m<module>\u001b[1;34m\u001b[0m\n\u001b[1;32m----> 1\u001b[1;33m \u001b[0mcursor\u001b[0m\u001b[1;33m.\u001b[0m\u001b[0mexecute\u001b[0m\u001b[1;33m(\u001b[0m\u001b[0mnc_test_query_ii\u001b[0m\u001b[1;33m)\u001b[0m\u001b[1;33m\u001b[0m\u001b[1;33m\u001b[0m\u001b[0m\n\u001b[0m",
      "\u001b[1;31mError\u001b[0m: ('HY000', '[HY000] [IBM][System i Access ODBC Driver][DB2 for i5/OS]SQL5016 - Qualified object name NR4NCHP not valid. (-5016) (SQLExecDirectW); [HY000] [IBM][System i Access ODBC Driver][DB2 for i5/OS]SQL7973 - SQL create package for PYTHONARBA in B833CLPF has failed. (-551)')"
     ]
    }
   ],
   "source": [
    "cursor.execute(nc_test_query_ii)"
   ]
  },
  {
   "cell_type": "markdown",
   "id": "b9efb3c7-16e3-4596-82c6-a2bc343188be",
   "metadata": {},
   "source": [
    "## QMSPRODRP query\n",
    "\n"
   ]
  },
  {
   "cell_type": "code",
   "execution_count": 13,
   "id": "79e88392-4ce3-4105-87a2-ba4f38833a52",
   "metadata": {},
   "outputs": [],
   "source": [
    "\n",
    "qmsprodrp_query = ''' SELECT       \tttype.ithl01, CVTDATE(TTDTE,ymd1) NAME(TRANDATE) \n",
    "\t\t\t\tCOLHDG(\"Trans\" \"Date\"), \n",
    "\t\t\t\tthord.ithl01 COLHDG(\"Shop Order\" \"Number\") EDTCDE(4), \n",
    "\t\t\t\tiityp.iiml01 COLHDG(\"Item\" \"Type\"), iclas.iiml01, tprod.ithl01, \n",
    "\t\t\t\tidesc.iiml01, twhs.ithl01 COLHDG(\" \" \"Warehouse\"), \n",
    "\t\t\t\ttloct.ithl01 COLHDG(\" \" \"Location\"), tlot.ithl01, sum(tqty) \n",
    "\t\t\t\tNAME(SUMTQTY) COLHDG(\"Transaction\" \"Quantity\") \n",
    "\t\t\t\tEDTCDE(J), \n",
    "\t\t\t\tiums.iiml01, iump.iiml01\n",
    " FROM          \tithl01,iiml01\n",
    " INNER JOIN  \ttprod.ithl01=iprod.iiml01\n",
    " WHERE        \ttrandate BETWEEN \"&&stardate\" AND \"&&enddte\" \n",
    "\t\t\t\tand thfac=\"63\" AND &Type=TTYPE\n",
    " GROUP BY  \tttype,TRANDATE,thord,iityp,iclas,tprod,idesc,twhs,tloct,tlot,\n",
    "\t\t\t\tiums,iump\n",
    " ORDER BY  \ttprod Asc,thord Asc'''"
   ]
  },
  {
   "cell_type": "code",
   "execution_count": 91,
   "id": "dc987f77-8a78-4043-afce-39d422828cdc",
   "metadata": {},
   "outputs": [
    {
     "ename": "Error",
     "evalue": "('HY000', '[HY000] [IBM][System i Access ODBC Driver][DB2 for i5/OS]SQL0950 - Relational database IASP not in relational database directory. (-950) (SQLExecDirectW)')",
     "output_type": "error",
     "traceback": [
      "\u001b[1;31m---------------------------------------------------------------------------\u001b[0m",
      "\u001b[1;31mError\u001b[0m                                     Traceback (most recent call last)",
      "\u001b[1;32mC:\\Users\\STEVEN~1.HAN\\AppData\\Local\\Temp/ipykernel_20400/3713390855.py\u001b[0m in \u001b[0;36m<module>\u001b[1;34m\u001b[0m\n\u001b[0;32m      2\u001b[0m \u001b[0mSELECT\u001b[0m \u001b[1;33m*\u001b[0m \u001b[0mFROM\u001b[0m \u001b[0mIASP\u001b[0m\u001b[1;33m.\u001b[0m\u001b[0mLIB\u001b[0m\u001b[1;33m.\u001b[0m\u001b[0mFILE\u001b[0m\u001b[1;33m\u001b[0m\u001b[1;33m\u001b[0m\u001b[0m\n\u001b[0;32m      3\u001b[0m \"\"\"\n\u001b[1;32m----> 4\u001b[1;33m \u001b[0mcursor\u001b[0m\u001b[1;33m.\u001b[0m\u001b[0mexecute\u001b[0m\u001b[1;33m(\u001b[0m\u001b[0mexp_search\u001b[0m\u001b[1;33m)\u001b[0m\u001b[1;33m\u001b[0m\u001b[1;33m\u001b[0m\u001b[0m\n\u001b[0m",
      "\u001b[1;31mError\u001b[0m: ('HY000', '[HY000] [IBM][System i Access ODBC Driver][DB2 for i5/OS]SQL0950 - Relational database IASP not in relational database directory. (-950) (SQLExecDirectW)')"
     ]
    }
   ],
   "source": [
    "exp_search = \"\"\"\n",
    "SELECT * FROM IASP.LIB.FILE\n",
    "\"\"\"\n",
    "cursor.execute(exp_search)"
   ]
  },
  {
   "cell_type": "code",
   "execution_count": 39,
   "id": "4e681ed6-4adf-4c2b-beab-b6ca7f29a95d",
   "metadata": {},
   "outputs": [
    {
     "data": {
      "text/plain": [
       "<pyodbc.Cursor at 0x21b7dca8830>"
      ]
     },
     "execution_count": 39,
     "metadata": {},
     "output_type": "execute_result"
    }
   ],
   "source": [
    "table_search = '''\n",
    "SELECT\n",
    "    *\n",
    "FROM\n",
    "    information_schema.tables'''\n",
    "cursor.execute(table_search)"
   ]
  },
  {
   "cell_type": "code",
   "execution_count": 40,
   "id": "2d05a24e-5705-4424-86a3-a03757144d73",
   "metadata": {},
   "outputs": [
    {
     "name": "stdout",
     "output_type": "stream",
     "text": [
      "Wall time: 46.1 s\n"
     ]
    }
   ],
   "source": [
    "%%time\n",
    "df = pd.DataFrame(itertools.islice(cursor.execute(table_search),100000))\n",
    "df.to_csv('table_list.csv')"
   ]
  },
  {
   "cell_type": "code",
   "execution_count": 41,
   "id": "58d7798e-095c-40fa-a16f-8ce57013b212",
   "metadata": {},
   "outputs": [
    {
     "data": {
      "text/plain": [
       "<pyodbc.Cursor at 0x21b7dca8830>"
      ]
     },
     "execution_count": 41,
     "metadata": {},
     "output_type": "execute_result"
    }
   ],
   "source": [
    "col_search = '''\n",
    "SELECT\n",
    "    *\n",
    "FROM\n",
    "    information_schema.columns'''\n",
    "cursor.execute(col_search)"
   ]
  },
  {
   "cell_type": "code",
   "execution_count": 42,
   "id": "f5ddd1fc-1109-4aa1-8c4a-d12621b50776",
   "metadata": {},
   "outputs": [
    {
     "name": "stdout",
     "output_type": "stream",
     "text": [
      "Wall time: 52.4 s\n"
     ]
    }
   ],
   "source": [
    "%%time\n",
    "df = pd.DataFrame(itertools.islice(cursor.execute(col_search),10000))\n",
    "df.to_csv('col_list.csv')"
   ]
  },
  {
   "cell_type": "code",
   "execution_count": 49,
   "id": "d5a13b17-43cf-4777-808a-5290497aa0c8",
   "metadata": {},
   "outputs": [
    {
     "ename": "ProgrammingError",
     "evalue": "('42S02', '[42S02] [IBM][System i Access ODBC Driver][DB2 for i5/OS]SQL0204 - B833CLPF in B833CLPF type *FILE not found. (-204) (SQLExecDirectW)')",
     "output_type": "error",
     "traceback": [
      "\u001b[1;31m---------------------------------------------------------------------------\u001b[0m",
      "\u001b[1;31mProgrammingError\u001b[0m                          Traceback (most recent call last)",
      "\u001b[1;32mC:\\Users\\STEVEN~1.HAN\\AppData\\Local\\Temp/ipykernel_20400/3039399051.py\u001b[0m in \u001b[0;36m<module>\u001b[1;34m\u001b[0m\n\u001b[0;32m      4\u001b[0m \u001b[0mFROM\u001b[0m\u001b[1;33m\u001b[0m\u001b[1;33m\u001b[0m\u001b[0m\n\u001b[0;32m      5\u001b[0m     B833CLPF'''\n\u001b[1;32m----> 6\u001b[1;33m \u001b[0mcursor\u001b[0m\u001b[1;33m.\u001b[0m\u001b[0mexecute\u001b[0m\u001b[1;33m(\u001b[0m\u001b[0mwithin_table_search\u001b[0m\u001b[1;33m)\u001b[0m\u001b[1;33m\u001b[0m\u001b[1;33m\u001b[0m\u001b[0m\n\u001b[0m",
      "\u001b[1;31mProgrammingError\u001b[0m: ('42S02', '[42S02] [IBM][System i Access ODBC Driver][DB2 for i5/OS]SQL0204 - B833CLPF in B833CLPF type *FILE not found. (-204) (SQLExecDirectW)')"
     ]
    }
   ],
   "source": [
    "within_table_search = '''\n",
    "SELECT\n",
    "    *\n",
    "FROM\n",
    "    B833CLPF'''\n",
    "cursor.execute(within_table_search)"
   ]
  },
  {
   "cell_type": "code",
   "execution_count": 45,
   "id": "a8f10449-c029-49c9-82f3-f0e058103301",
   "metadata": {},
   "outputs": [
    {
     "ename": "ProgrammingError",
     "evalue": "No results.  Previous SQL was not a query.",
     "output_type": "error",
     "traceback": [
      "\u001b[1;31m---------------------------------------------------------------------------\u001b[0m",
      "\u001b[1;31mProgrammingError\u001b[0m                          Traceback (most recent call last)",
      "\u001b[1;32mC:\\Users\\STEVEN~1.HAN\\AppData\\Local\\Temp/ipykernel_20400/1798942337.py\u001b[0m in \u001b[0;36m<module>\u001b[1;34m\u001b[0m\n\u001b[1;32m----> 1\u001b[1;33m \u001b[0mcursor\u001b[0m\u001b[1;33m.\u001b[0m\u001b[0mfetchone\u001b[0m\u001b[1;33m(\u001b[0m\u001b[1;33m)\u001b[0m\u001b[1;33m\u001b[0m\u001b[1;33m\u001b[0m\u001b[0m\n\u001b[0m\u001b[0;32m      2\u001b[0m \u001b[0mcursor\u001b[0m\u001b[1;33m.\u001b[0m\u001b[0mstatistics\u001b[0m\u001b[1;33m(\u001b[0m\u001b[1;34m'B833CLPF'\u001b[0m\u001b[1;33m)\u001b[0m\u001b[1;33m\u001b[0m\u001b[1;33m\u001b[0m\u001b[0m\n",
      "\u001b[1;31mProgrammingError\u001b[0m: No results.  Previous SQL was not a query."
     ]
    }
   ],
   "source": [
    "cursor.fetchone()\n",
    "cursor.statistics('B833CLPF')"
   ]
  },
  {
   "cell_type": "code",
   "execution_count": 81,
   "id": "fede5dd7-e6fd-41e6-8f9a-d2be26aaac60",
   "metadata": {},
   "outputs": [],
   "source": [
    "\n",
    "test = pd.DataFrame(columns = cols)\n",
    "test.loc[0,:] = list(row)"
   ]
  },
  {
   "cell_type": "code",
   "execution_count": 82,
   "id": "e2ec1afb-f25d-4eba-a0f5-32ca20463d72",
   "metadata": {},
   "outputs": [
    {
     "data": {
      "text/html": [
       "<div>\n",
       "<style scoped>\n",
       "    .dataframe tbody tr th:only-of-type {\n",
       "        vertical-align: middle;\n",
       "    }\n",
       "\n",
       "    .dataframe tbody tr th {\n",
       "        vertical-align: top;\n",
       "    }\n",
       "\n",
       "    .dataframe thead th {\n",
       "        text-align: right;\n",
       "    }\n",
       "</style>\n",
       "<table border=\"1\" class=\"dataframe\">\n",
       "  <thead>\n",
       "    <tr style=\"text-align: right;\">\n",
       "      <th></th>\n",
       "      <th>1</th>\n",
       "      <th>2</th>\n",
       "      <th>3</th>\n",
       "      <th>4</th>\n",
       "      <th>5</th>\n",
       "      <th>6</th>\n",
       "      <th>7</th>\n",
       "      <th>8</th>\n",
       "      <th>9</th>\n",
       "      <th>10</th>\n",
       "    </tr>\n",
       "  </thead>\n",
       "  <tbody>\n",
       "    <tr>\n",
       "      <th>0</th>\n",
       "      <td>NAMFG401</td>\n",
       "      <td>QSYS</td>\n",
       "      <td>QACSTOSDS</td>\n",
       "      <td>BASE TABLE</td>\n",
       "      <td>None</td>\n",
       "      <td>None</td>\n",
       "      <td>None</td>\n",
       "      <td>None</td>\n",
       "      <td>None</td>\n",
       "      <td>YES</td>\n",
       "    </tr>\n",
       "  </tbody>\n",
       "</table>\n",
       "</div>"
      ],
      "text/plain": [
       "          1     2          3           4     5     6     7     8     9   10\n",
       "0  NAMFG401  QSYS  QACSTOSDS  BASE TABLE  None  None  None  None  None  YES"
      ]
     },
     "execution_count": 82,
     "metadata": {},
     "output_type": "execute_result"
    }
   ],
   "source": [
    "test"
   ]
  },
  {
   "cell_type": "code",
   "execution_count": 5,
   "id": "81da372c-c26a-449a-89dc-6586467a6466",
   "metadata": {},
   "outputs": [],
   "source": [
    "row = cursor.fetchone()"
   ]
  },
  {
   "cell_type": "code",
   "execution_count": 63,
   "id": "58db75b3-2d6b-4d14-9375-3782b871522b",
   "metadata": {},
   "outputs": [],
   "source": [
    "rows = cursor.fetchall()"
   ]
  },
  {
   "cell_type": "code",
   "execution_count": 59,
   "id": "57cbdd8d-0b5b-49d6-bf4e-55d9b2f39a9e",
   "metadata": {},
   "outputs": [
    {
     "ename": "OperationalError",
     "evalue": "('08S01', '[08S01] [IBM][System i Access ODBC Driver]Communication link failure. comm rc=10054 - CWBCO1047 - The IBM i server application  disconnected the connection (10054) (SQLTables)')",
     "output_type": "error",
     "traceback": [
      "\u001b[1;31m---------------------------------------------------------------------------\u001b[0m",
      "\u001b[1;31mOperationalError\u001b[0m                          Traceback (most recent call last)",
      "\u001b[1;32mC:\\Users\\STEVEN~1.HAN\\AppData\\Local\\Temp/ipykernel_20400/2887412621.py\u001b[0m in \u001b[0;36m<module>\u001b[1;34m\u001b[0m\n\u001b[1;32m----> 1\u001b[1;33m \u001b[0mcursor\u001b[0m\u001b[1;33m.\u001b[0m\u001b[0mtables\u001b[0m\u001b[1;33m(\u001b[0m\u001b[1;33m)\u001b[0m\u001b[1;33m\u001b[0m\u001b[1;33m\u001b[0m\u001b[0m\n\u001b[0m",
      "\u001b[1;31mOperationalError\u001b[0m: ('08S01', '[08S01] [IBM][System i Access ODBC Driver]Communication link failure. comm rc=10054 - CWBCO1047 - The IBM i server application  disconnected the connection (10054) (SQLTables)')"
     ]
    }
   ],
   "source": [
    "cursor.tables()"
   ]
  },
  {
   "cell_type": "code",
   "execution_count": 53,
   "id": "d8fed7f3-b09b-4fc9-9a17-a6c90d463bf7",
   "metadata": {},
   "outputs": [
    {
     "data": {
      "text/plain": [
       "<pyodbc.Cursor at 0x21b7dca8830>"
      ]
     },
     "execution_count": 53,
     "metadata": {},
     "output_type": "execute_result"
    }
   ],
   "source": [
    "cursor.tables()"
   ]
  },
  {
   "cell_type": "markdown",
   "id": "060d3235-de8b-4a36-9686-189fbc13668c",
   "metadata": {},
   "source": [
    "## Plantstar Query\n",
    "\n",
    "doesn't work with 64-bit python"
   ]
  },
  {
   "cell_type": "code",
   "execution_count": 7,
   "id": "1f39c494-f90f-45b6-836a-c6ff915fdb9d",
   "metadata": {},
   "outputs": [
    {
     "ename": "Error",
     "evalue": "('IM014', '[IM014] [Microsoft][ODBC Driver Manager] The specified DSN contains an architecture mismatch between the Driver and Application (0) (SQLDriverConnect)')",
     "output_type": "error",
     "traceback": [
      "\u001b[1;31m---------------------------------------------------------------------------\u001b[0m",
      "\u001b[1;31mError\u001b[0m                                     Traceback (most recent call last)",
      "\u001b[1;32mC:\\Users\\STEVEN~1.HAN\\AppData\\Local\\Temp/ipykernel_8380/298589710.py\u001b[0m in \u001b[0;36m<module>\u001b[1;34m\u001b[0m\n\u001b[1;32m----> 1\u001b[1;33m \u001b[0mps_cnxn\u001b[0m \u001b[1;33m=\u001b[0m \u001b[0mpyodbc\u001b[0m\u001b[1;33m.\u001b[0m\u001b[0mconnect\u001b[0m\u001b[1;33m(\u001b[0m\u001b[1;34m\"Provider=MSDASQL.1;Persist Security Info=True;Extended Properties=&quot;DSN=mypstar;&quot;;Initial Catalog=focus2000\"\u001b[0m\u001b[1;33m)\u001b[0m\u001b[1;33m\u001b[0m\u001b[1;33m\u001b[0m\u001b[0m\n\u001b[0m\u001b[0;32m      2\u001b[0m \u001b[0mps_cursor\u001b[0m \u001b[1;33m=\u001b[0m \u001b[0mps_cnxn\u001b[0m\u001b[1;33m.\u001b[0m\u001b[0mcursor\u001b[0m\u001b[1;33m(\u001b[0m\u001b[1;33m)\u001b[0m\u001b[1;33m\u001b[0m\u001b[1;33m\u001b[0m\u001b[0m\n",
      "\u001b[1;31mError\u001b[0m: ('IM014', '[IM014] [Microsoft][ODBC Driver Manager] The specified DSN contains an architecture mismatch between the Driver and Application (0) (SQLDriverConnect)')"
     ]
    }
   ],
   "source": [
    "ps_cnxn = pyodbc.connect(\"Provider=MSDASQL.1;Persist Security Info=True;Extended Properties=&quot;DSN=mypstar;&quot;;Initial Catalog=focus2000\")\n",
    "ps_cursor = ps_cnxn.cursor()"
   ]
  },
  {
   "cell_type": "code",
   "execution_count": null,
   "id": "2abb8ad9-7335-4c34-8cdf-9a94ca252f5b",
   "metadata": {},
   "outputs": [],
   "source": [
    "plant_query = '''SELECT ss_hist_base_0.start_time, ss_hist_base_0.mach_name, ss_hist_base_0.gross_pieces, ss_hist_base_0.user_text_1, ss_hist_base_0.user_text_4, ss_hist_base_0.mat_formula, ss_hist_base_0.tool, ss_hist_base_0.std_shot_weight, ss_hist_base_0.act_shot_weight, ss_hist_base_0.start_time\n",
    "FROM focus2000.dg_def dg_def_0, focus2000.dg_set dg_set_0, focus2000.ss_hist_base ss_hist_base_0\n",
    "WHERE dg_def_0.mach_seq = ss_hist_base_0.mach_seq AND dg_set_0.dg_seq = dg_def_0.dg_seq AND ((dg_set_0.dg_name Like 'Team%') AND (ss_hist_base_0.start_time>{ts '2019-03-01 06:00:00'}))'''"
   ]
  }
 ],
 "metadata": {
  "kernelspec": {
   "display_name": "Python 3 (ipykernel)",
   "language": "python",
   "name": "python3"
  },
  "language_info": {
   "codemirror_mode": {
    "name": "ipython",
    "version": 3
   },
   "file_extension": ".py",
   "mimetype": "text/x-python",
   "name": "python",
   "nbconvert_exporter": "python",
   "pygments_lexer": "ipython3",
   "version": "3.9.5"
  }
 },
 "nbformat": 4,
 "nbformat_minor": 5
}
