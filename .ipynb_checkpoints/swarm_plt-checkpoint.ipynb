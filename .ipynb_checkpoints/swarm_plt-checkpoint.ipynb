{
 "cells": [
  {
   "cell_type": "code",
   "execution_count": 1,
   "id": "9b680bef-f637-48e1-99e3-80e2899c8c1a",
   "metadata": {},
   "outputs": [],
   "source": [
    "import pandas as pd\n",
    "import numpy as np\n",
    "import os\n",
    "import seaborn as sns\n",
    "import matplotlib.pyplot as plt"
   ]
  },
  {
   "cell_type": "code",
   "execution_count": 2,
   "id": "7c263e0b-4b2b-4f8e-b5eb-1d9d4abaa516",
   "metadata": {},
   "outputs": [
    {
     "name": "stdout",
     "output_type": "stream",
     "text": [
      "rows = 4112, columns = 905\n",
      "Number of NCs = 336\n",
      "Percent SO with NCs = 8.2%\n"
     ]
    },
    {
     "data": {
      "text/html": [
       "<div>\n",
       "<style scoped>\n",
       "    .dataframe tbody tr th:only-of-type {\n",
       "        vertical-align: middle;\n",
       "    }\n",
       "\n",
       "    .dataframe tbody tr th {\n",
       "        vertical-align: top;\n",
       "    }\n",
       "\n",
       "    .dataframe thead th {\n",
       "        text-align: right;\n",
       "    }\n",
       "</style>\n",
       "<table border=\"1\" class=\"dataframe\">\n",
       "  <thead>\n",
       "    <tr style=\"text-align: right;\">\n",
       "      <th></th>\n",
       "      <th>Shop Order</th>\n",
       "      <th>Lot Number</th>\n",
       "      <th>requested_qty</th>\n",
       "      <th>047</th>\n",
       "      <th>065</th>\n",
       "      <th>1181200777</th>\n",
       "      <th>1522SA</th>\n",
       "      <th>1523SA</th>\n",
       "      <th>1525SA</th>\n",
       "      <th>31139747</th>\n",
       "      <th>...</th>\n",
       "      <th>R7472</th>\n",
       "      <th>R8534</th>\n",
       "      <th>R8535</th>\n",
       "      <th>R8550</th>\n",
       "      <th>R9806</th>\n",
       "      <th>8507SA</th>\n",
       "      <th>R7624</th>\n",
       "      <th>R1594</th>\n",
       "      <th>4500906</th>\n",
       "      <th>NC</th>\n",
       "    </tr>\n",
       "  </thead>\n",
       "  <tbody>\n",
       "    <tr>\n",
       "      <th>0</th>\n",
       "      <td>190981</td>\n",
       "      <td></td>\n",
       "      <td>0.122346</td>\n",
       "      <td>0.0</td>\n",
       "      <td>0.0</td>\n",
       "      <td>0.0</td>\n",
       "      <td>0.0</td>\n",
       "      <td>0.0</td>\n",
       "      <td>0.0</td>\n",
       "      <td>0.0</td>\n",
       "      <td>...</td>\n",
       "      <td>0.0</td>\n",
       "      <td>0.0</td>\n",
       "      <td>0.0</td>\n",
       "      <td>0.0</td>\n",
       "      <td>0.0</td>\n",
       "      <td>0.0</td>\n",
       "      <td>0.0</td>\n",
       "      <td>0.0</td>\n",
       "      <td>0.0</td>\n",
       "      <td>0</td>\n",
       "    </tr>\n",
       "    <tr>\n",
       "      <th>1</th>\n",
       "      <td>191259</td>\n",
       "      <td>19191259</td>\n",
       "      <td>0.002287</td>\n",
       "      <td>0.0</td>\n",
       "      <td>0.0</td>\n",
       "      <td>0.0</td>\n",
       "      <td>0.0</td>\n",
       "      <td>0.0</td>\n",
       "      <td>0.0</td>\n",
       "      <td>0.0</td>\n",
       "      <td>...</td>\n",
       "      <td>0.0</td>\n",
       "      <td>0.0</td>\n",
       "      <td>0.0</td>\n",
       "      <td>0.0</td>\n",
       "      <td>0.0</td>\n",
       "      <td>0.0</td>\n",
       "      <td>0.0</td>\n",
       "      <td>0.0</td>\n",
       "      <td>0.0</td>\n",
       "      <td>0</td>\n",
       "    </tr>\n",
       "    <tr>\n",
       "      <th>2</th>\n",
       "      <td>188358</td>\n",
       "      <td>19D27563X</td>\n",
       "      <td>0.111666</td>\n",
       "      <td>0.0</td>\n",
       "      <td>0.0</td>\n",
       "      <td>0.0</td>\n",
       "      <td>0.0</td>\n",
       "      <td>0.0</td>\n",
       "      <td>0.0</td>\n",
       "      <td>0.0</td>\n",
       "      <td>...</td>\n",
       "      <td>0.0</td>\n",
       "      <td>0.0</td>\n",
       "      <td>0.0</td>\n",
       "      <td>0.0</td>\n",
       "      <td>0.0</td>\n",
       "      <td>0.0</td>\n",
       "      <td>0.0</td>\n",
       "      <td>0.0</td>\n",
       "      <td>0.0</td>\n",
       "      <td>0</td>\n",
       "    </tr>\n",
       "    <tr>\n",
       "      <th>3</th>\n",
       "      <td>188400</td>\n",
       "      <td>19E02463X</td>\n",
       "      <td>0.102999</td>\n",
       "      <td>0.0</td>\n",
       "      <td>0.0</td>\n",
       "      <td>0.0</td>\n",
       "      <td>0.0</td>\n",
       "      <td>0.0</td>\n",
       "      <td>0.0</td>\n",
       "      <td>0.0</td>\n",
       "      <td>...</td>\n",
       "      <td>0.0</td>\n",
       "      <td>0.0</td>\n",
       "      <td>0.0</td>\n",
       "      <td>0.0</td>\n",
       "      <td>0.0</td>\n",
       "      <td>0.0</td>\n",
       "      <td>0.0</td>\n",
       "      <td>0.0</td>\n",
       "      <td>0.0</td>\n",
       "      <td>1</td>\n",
       "    </tr>\n",
       "    <tr>\n",
       "      <th>4</th>\n",
       "      <td>188401</td>\n",
       "      <td>19E02563X</td>\n",
       "      <td>0.015999</td>\n",
       "      <td>0.0</td>\n",
       "      <td>0.0</td>\n",
       "      <td>0.0</td>\n",
       "      <td>0.0</td>\n",
       "      <td>0.0</td>\n",
       "      <td>0.0</td>\n",
       "      <td>0.0</td>\n",
       "      <td>...</td>\n",
       "      <td>0.0</td>\n",
       "      <td>0.0</td>\n",
       "      <td>0.0</td>\n",
       "      <td>0.0</td>\n",
       "      <td>0.0</td>\n",
       "      <td>0.0</td>\n",
       "      <td>0.0</td>\n",
       "      <td>0.0</td>\n",
       "      <td>0.0</td>\n",
       "      <td>1</td>\n",
       "    </tr>\n",
       "  </tbody>\n",
       "</table>\n",
       "<p>5 rows × 905 columns</p>\n",
       "</div>"
      ],
      "text/plain": [
       "   Shop Order                 Lot Number  requested_qty  \\\n",
       "0      190981                                  0.122346   \n",
       "1      191259  19191259                        0.002287   \n",
       "2      188358  19D27563X                       0.111666   \n",
       "3      188400  19E02463X                       0.102999   \n",
       "4      188401  19E02563X                       0.015999   \n",
       "\n",
       "   047                                  065                                  \\\n",
       "0                                  0.0                                  0.0   \n",
       "1                                  0.0                                  0.0   \n",
       "2                                  0.0                                  0.0   \n",
       "3                                  0.0                                  0.0   \n",
       "4                                  0.0                                  0.0   \n",
       "\n",
       "   1181200777                           1522SA                               \\\n",
       "0                                  0.0                                  0.0   \n",
       "1                                  0.0                                  0.0   \n",
       "2                                  0.0                                  0.0   \n",
       "3                                  0.0                                  0.0   \n",
       "4                                  0.0                                  0.0   \n",
       "\n",
       "   1523SA                               1525SA                               \\\n",
       "0                                  0.0                                  0.0   \n",
       "1                                  0.0                                  0.0   \n",
       "2                                  0.0                                  0.0   \n",
       "3                                  0.0                                  0.0   \n",
       "4                                  0.0                                  0.0   \n",
       "\n",
       "   31139747                             ...  R7472  R8534  R8535  R8550  \\\n",
       "0                                  0.0  ...    0.0    0.0    0.0    0.0   \n",
       "1                                  0.0  ...    0.0    0.0    0.0    0.0   \n",
       "2                                  0.0  ...    0.0    0.0    0.0    0.0   \n",
       "3                                  0.0  ...    0.0    0.0    0.0    0.0   \n",
       "4                                  0.0  ...    0.0    0.0    0.0    0.0   \n",
       "\n",
       "   R9806  8507SA  R7624  R1594  4500906  NC  \n",
       "0    0.0     0.0    0.0    0.0      0.0   0  \n",
       "1    0.0     0.0    0.0    0.0      0.0   0  \n",
       "2    0.0     0.0    0.0    0.0      0.0   0  \n",
       "3    0.0     0.0    0.0    0.0      0.0   1  \n",
       "4    0.0     0.0    0.0    0.0      0.0   1  \n",
       "\n",
       "[5 rows x 905 columns]"
      ]
     },
     "execution_count": 2,
     "metadata": {},
     "output_type": "execute_result"
    }
   ],
   "source": [
    "df = pd.read_csv('./clean_data/archived_so_encoded.csv')\n",
    "print('rows = {}, columns = {}'.format(df.shape[0],df.shape[1]))\n",
    "print('Number of NCs = {}'.format(sum(df.NC)))\n",
    "print('Percent SO with NCs = {}'.format(str(round(100* sum(df.NC)/df.shape[0],1))+'%'))\n",
    "df.head()"
   ]
  },
  {
   "cell_type": "code",
   "execution_count": 3,
   "id": "b971e767-fbf5-45dd-aa65-829ea6806c16",
   "metadata": {},
   "outputs": [
    {
     "name": "stdout",
     "output_type": "stream",
     "text": [
      "Wall time: 35min 44s\n"
     ]
    },
    {
     "data": {
      "text/plain": [
       "<AxesSubplot:xlabel='NC', ylabel='requested_qty'>"
      ]
     },
     "execution_count": 3,
     "metadata": {},
     "output_type": "execute_result"
    },
    {
     "data": {
      "image/png": "[encoded data removed]",
      "text/plain": [
       "<Figure size 432x288 with 1 Axes>"
      ]
     },
     "metadata": {
      "needs_background": "light"
     },
     "output_type": "display_data"
    }
   ],
   "source": [
    "%%time\n",
    "sns.swarmplot(x='NC',y='requested_qty',data=df)"
   ]
  },
  {
   "cell_type": "code",
   "execution_count": 7,
   "id": "157de4b6-62d9-4961-a7a4-338f1c4ea1db",
   "metadata": {},
   "outputs": [
    {
     "data": {
      "text/plain": [
       "<Figure size 432x288 with 0 Axes>"
      ]
     },
     "metadata": {},
     "output_type": "display_data"
    }
   ],
   "source": [
    "plt.show()\n",
    "plt.savefig('./figures/swarmplot_qty_vs_nc.jpg')"
   ]
  },
  {
   "cell_type": "code",
   "execution_count": 4,
   "id": "e0681c62-cfe6-44a3-bc0e-785b9e0b399f",
   "metadata": {},
   "outputs": [
    {
     "data": {
      "text/plain": [
       "PT00009994                             1639.0\n",
       "0301001                                1623.0\n",
       "R4415                                  1258.0\n",
       "EXP5050                                 825.0\n",
       "5241008                                 753.0\n",
       "4502570                                 661.0\n",
       "DC00056758                              661.0\n",
       "4001204                                 651.0\n",
       "5542735                                 651.0\n",
       "RM129                                   514.0\n",
       "RM171                                   448.0\n",
       "4101801                                 435.0\n",
       "PT00006610                              431.0\n",
       "PT00065936                              426.0\n",
       "4001801                                 409.0\n",
       "NC                                      336.0\n",
       "5500149                                 296.0\n",
       "R5097                                   286.0\n",
       "RM004                                   278.0\n",
       "RM170                                   273.0\n",
       "dtype: float64"
      ]
     },
     "execution_count": 4,
     "metadata": {},
     "output_type": "execute_result"
    }
   ],
   "source": [
    "df.iloc[:,2:].sum().sort_values(ascending=False)[0:20]"
   ]
  },
  {
   "cell_type": "code",
   "execution_count": null,
   "id": "01aa4dc6-105a-43b9-b99d-fd82ce727e97",
   "metadata": {},
   "outputs": [],
   "source": []
  }
 ],
 "metadata": {
  "kernelspec": {
   "display_name": "Python 3.8.3 32-bit",
   "language": "python",
   "name": "python38332bit2b8480b44fa447f4ab201d5dd8281470"
  },
  "language_info": {
   "codemirror_mode": {
    "name": "ipython",
    "version": 3
   },
   "file_extension": ".py",
   "mimetype": "text/x-python",
   "name": "python",
   "nbconvert_exporter": "python",
   "pygments_lexer": "ipython3",
   "version": "3.8.3"
  }
 },
 "nbformat": 4,
 "nbformat_minor": 5
}
